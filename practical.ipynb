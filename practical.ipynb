{
 "cells": [
  {
   "cell_type": "markdown",
   "metadata": {},
   "source": [
    "1. install packages\n",
    "2. Download data from google\n",
    "3. load nilearn\n",
    "4. plot image\n",
    "5. plot motion params\n",
    "6. convolve task events\n",
    "7. combine regressor (task + motion)\n",
    "8. GLM\n",
    "9. plot GLm\n",
    "10. wrap up"
   ]
  }
 ],
 "metadata": {
  "language_info": {
   "name": "plaintext"
  },
  "orig_nbformat": 4
 },
 "nbformat": 4,
 "nbformat_minor": 2
}
